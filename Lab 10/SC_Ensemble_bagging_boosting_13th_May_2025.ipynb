{
  "nbformat": 4,
  "nbformat_minor": 0,
  "metadata": {
    "colab": {
      "provenance": []
    },
    "kernelspec": {
      "name": "python3",
      "display_name": "Python 3"
    },
    "language_info": {
      "name": "python"
    }
  },
  "cells": [
    {
      "cell_type": "code",
      "execution_count": 7,
      "metadata": {
        "colab": {
          "base_uri": "https://localhost:8080/"
        },
        "id": "7uMdb3yBPDMG",
        "outputId": "314b2550-f82c-4c13-bd45-7266f1349a7a"
      },
      "outputs": [
        {
          "output_type": "stream",
          "name": "stdout",
          "text": [
            "Accuracy: 0.9748803827751196\n",
            "Classification Report:\n",
            "              precision    recall  f1-score   support\n",
            "\n",
            "         ham       0.97      1.00      0.99      1453\n",
            "        spam       0.99      0.81      0.89       219\n",
            "\n",
            "    accuracy                           0.97      1672\n",
            "   macro avg       0.98      0.91      0.94      1672\n",
            "weighted avg       0.98      0.97      0.97      1672\n",
            "\n"
          ]
        }
      ],
      "source": [
        "import pandas as pd\n",
        "import numpy as np\n",
        "from sklearn.model_selection import train_test_split\n",
        "from sklearn.feature_extraction.text import TfidfVectorizer\n",
        "from sklearn.naive_bayes import MultinomialNB\n",
        "from sklearn.svm import SVC\n",
        "from sklearn.linear_model import LogisticRegression\n",
        "from sklearn.ensemble import RandomForestClassifier, VotingClassifier\n",
        "from sklearn.metrics import classification_report, accuracy_score\n",
        "\n",
        "# 1. Sample dataset\n",
        "\n",
        "\n",
        "# Convert to DataFrame\n",
        "df = pd.read_csv('spam.csv', encoding='ISO-8859-1')\n",
        "df.columns = df.columns.str.strip()\n",
        "# 2. Text preprocessing\n",
        "# Convert text to lowercase\n",
        "df['v2'] = df['v2'].str.lower()\n",
        "\n",
        "# Split the dataset into training and testing sets\n",
        "X = df['v2']\n",
        "y = df['v1']\n",
        "X_train, X_test, y_train, y_test = train_test_split(X, y, test_size=0.3, random_state=42)\n",
        "\n",
        "# 3. Feature extraction using TF-IDF Vectorizer\n",
        "vectorizer = TfidfVectorizer(stop_words='english', max_features=1000)\n",
        "X_train_tfidf = vectorizer.fit_transform(X_train)\n",
        "X_test_tfidf = vectorizer.transform(X_test)\n",
        "\n",
        "# 4. Create individual classifiers\n",
        "nb_classifier = MultinomialNB()\n",
        "svm_classifier = SVC(probability=True)\n",
        "log_reg_classifier = LogisticRegression()\n",
        "rf_classifier = RandomForestClassifier(n_estimators=100)\n",
        "\n",
        "# 5. Combine classifiers into an ensemble model using Voting Classifier\n",
        "ensemble_model = VotingClassifier(estimators=[\n",
        "    ('nb', nb_classifier),\n",
        "    ('svm', svm_classifier),\n",
        "    ('log_reg', log_reg_classifier),\n",
        "    ('rf', rf_classifier)\n",
        "], voting='hard')\n",
        "\n",
        "# 6. Train the ensemble model\n",
        "ensemble_model.fit(X_train_tfidf, y_train)\n",
        "\n",
        "# 7. Evaluate the model on the test data\n",
        "y_pred = ensemble_model.predict(X_test_tfidf)\n",
        "\n",
        "# Print evaluation metrics\n",
        "print(\"Accuracy:\", accuracy_score(y_test, y_pred))\n",
        "print(\"Classification Report:\")\n",
        "print(classification_report(y_test, y_pred))\n"
      ]
    }
  ]
}