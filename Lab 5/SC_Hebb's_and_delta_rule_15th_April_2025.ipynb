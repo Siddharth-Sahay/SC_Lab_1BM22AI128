{
  "nbformat": 4,
  "nbformat_minor": 0,
  "metadata": {
    "colab": {
      "provenance": []
    },
    "kernelspec": {
      "name": "python3",
      "display_name": "Python 3"
    },
    "language_info": {
      "name": "python"
    }
  },
  "cells": [
    {
      "cell_type": "code",
      "execution_count": null,
      "metadata": {
        "id": "VTCnAveoAv0w"
      },
      "outputs": [],
      "source": []
    },
    {
      "cell_type": "markdown",
      "source": [
        "implement a single layer perceptron using the perceptron delta rule for training\n",
        "\n",
        "implement a simple neural network using hebb's learning rule for training"
      ],
      "metadata": {
        "id": "Vrw7OyFkAwzz"
      }
    },
    {
      "cell_type": "code",
      "source": [
        "import numpy as np\n",
        "\n",
        "class Perceptron:\n",
        "    def __init__(self, input_size, learning_rate=0.1):\n",
        "        self.weights = np.zeros(input_size + 1)\n",
        "        self.learning_rate = learning_rate\n",
        "\n",
        "    def predict(self, inputs):\n",
        "\n",
        "        activation = np.dot(inputs, self.weights[1:]) + self.weights[0]\n",
        "        return 1 if activation >= 0 else 0\n",
        "\n",
        "    def train(self, training_inputs, labels, epochs=100):\n",
        "        for _ in range(epochs):\n",
        "            for inputs, label in zip(training_inputs, labels):\n",
        "                prediction = self.predict(inputs)\n",
        "                error = label - prediction\n",
        "\n",
        "                self.weights[1:] += self.learning_rate * error * inputs\n",
        "                self.weights[0] += self.learning_rate * error"
      ],
      "metadata": {
        "id": "rtr_0w5FBVnj"
      },
      "execution_count": 1,
      "outputs": []
    },
    {
      "cell_type": "code",
      "source": [
        "\n",
        "training_inputs = np.array([[0, 0], [0, 1], [1, 0], [1, 1]])\n",
        "labels = np.array([0, 0, 0, 1])\n",
        "\n",
        "perceptron = Perceptron(input_size=2)\n",
        "perceptron.train(training_inputs, labels)\n",
        "\n",
        "test_inputs = np.array([[0, 0], [0, 1], [1, 0], [1, 1]])\n",
        "for inputs in test_inputs:\n",
        "    prediction = perceptron.predict(inputs)\n",
        "    print(f\"Input: {inputs}, Prediction: {prediction}\")"
      ],
      "metadata": {
        "colab": {
          "base_uri": "https://localhost:8080/"
        },
        "id": "TUsRx1CjDXSq",
        "outputId": "f131f2d7-c227-4a83-be94-ecfc261814a0"
      },
      "execution_count": 2,
      "outputs": [
        {
          "output_type": "stream",
          "name": "stdout",
          "text": [
            "Input: [0 0], Prediction: 0\n",
            "Input: [0 1], Prediction: 0\n",
            "Input: [1 0], Prediction: 0\n",
            "Input: [1 1], Prediction: 1\n"
          ]
        }
      ]
    },
    {
      "cell_type": "code",
      "source": [
        "import numpy as np\n",
        "\n",
        "class HebbianNetwork:\n",
        "    def __init__(self, input_size,lr):\n",
        "        self.weights = np.zeros(input_size)\n",
        "        self.learning_rate = lr\n",
        "\n",
        "    def predict(self, inputs):\n",
        "        activation = np.dot(inputs, self.weights)\n",
        "        return 1 if activation >= 0 else 0\n",
        "\n",
        "    def train(self, training_inputs, labels, epochs=100):\n",
        "        for _ in range(epochs):\n",
        "            for inputs, label in zip(training_inputs, labels):\n",
        "\n",
        "                self.weights += self.learning_rate * label * inputs"
      ],
      "metadata": {
        "id": "jD7SujHdDa9i"
      },
      "execution_count": 9,
      "outputs": []
    },
    {
      "cell_type": "code",
      "source": [
        "\n",
        "training_inputs = np.array([[0, 0], [0, 1], [1, 0], [1, 1]])\n",
        "labels = np.array([0, 0, 0, 1])\n",
        "\n",
        "network = HebbianNetwork(input_size=2,lr = 0.01)\n",
        "network.train(training_inputs, labels)\n",
        "\n",
        "test_inputs = np.array([[0, 0], [0, 1], [1, 0], [1, 1]])\n",
        "for inputs in test_inputs:\n",
        "    prediction = network.predict(inputs)\n",
        "    print(f\"Input: {inputs}, Prediction: {prediction}\")"
      ],
      "metadata": {
        "colab": {
          "base_uri": "https://localhost:8080/"
        },
        "id": "VeObZC9hDfKC",
        "outputId": "bf544a3f-316e-4c71-bc39-7a8aa7a2c43e"
      },
      "execution_count": 11,
      "outputs": [
        {
          "output_type": "stream",
          "name": "stdout",
          "text": [
            "Input: [0 0], Prediction: 1\n",
            "Input: [0 1], Prediction: 1\n",
            "Input: [1 0], Prediction: 1\n",
            "Input: [1 1], Prediction: 1\n"
          ]
        }
      ]
    }
  ]
}